{
 "cells": [
  {
   "cell_type": "markdown",
   "metadata": {},
   "source": [
    "# EIT2018 FECG & MECG detection based on Neural Network `V1.1`\n",
    "\n",
    "Name: `Boyang Wang`                  \n",
    "\n",
    "Date: `JAN 27 2018`\n",
    "\n",
    "\n",
    "### To do list: \n",
    " - getting data from matlab data, build the neural network, train for result.\n",
    " - this v1.1 use 1 set of mixture input as the training sample. \n",
    " - in version 1.2, I am going to add two sets of input to train the neural network. hopefully it will be better"
   ]
  },
  {
   "cell_type": "code",
   "execution_count": 1,
   "metadata": {},
   "outputs": [
    {
     "name": "stdout",
     "output_type": "stream",
     "text": [
      "PACKAGES LOADED\n"
     ]
    }
   ],
   "source": [
    "import tensorflow as tf\n",
    "from scipy.io import loadmat\n",
    "import matplotlib.pyplot as plt\n",
    "import numpy as np\n",
    "import os\n",
    "import random\n",
    "import time\n",
    "from shutil import copyfile\n",
    "from tensorflow.contrib.tensorboard.plugins import projector\n",
    "print (\"PACKAGES LOADED\")"
   ]
  },
  {
   "cell_type": "markdown",
   "metadata": {},
   "source": [
    "## Load data from `fecg_train_Input.mat`\n",
    "\n",
    "The original data set has `fecg` , `mecg` , `mixture` , `train_input` , `train_label_fecg` , `train_label_mecg` , `train_label_nothing`\n",
    "\n",
    " - fecg (8, 15000)\n",
    " - mecg (8, 15000)\n",
    " - mixture (8, 15000)\n",
    " - sliced_mixture (8, 30, 14971)\n",
    " - train_label_fecg (14971, 2)\n",
    " - train_label_mecg (14971, 2)\n",
    " - train_label_nothing (14971, 2)"
   ]
  },
  {
   "cell_type": "code",
   "execution_count": 2,
   "metadata": {},
   "outputs": [],
   "source": [
    "cwd = os.getcwd()\n",
    "org_data = loadmat(cwd+'/dataset/fecg_train_input.mat')\n",
    "fecg = org_data['fecg']\n",
    "mecg = org_data['mecg']\n",
    "mixture = org_data['mixture']\n",
    "sliced_mixture = org_data['sliced_mixture']\n",
    "train_label_fecg = org_data['train_label_fecg']\n",
    "train_label_mecg = org_data['train_label_mecg']\n",
    "train_label_nothing = org_data['train_label_nothing']\n",
    "#print(train_label_fecg.shape)"
   ]
  },
  {
   "cell_type": "code",
   "execution_count": 3,
   "metadata": {},
   "outputs": [
    {
     "data": {
      "image/png": "[encoded data removed]",
      "text/plain": [
       "<matplotlib.figure.Figure at 0x1ecc94f56a0>"
      ]
     },
     "metadata": {},
     "output_type": "display_data"
    }
   ],
   "source": [
    "for i in range(8):\n",
    "    plt.subplot(2, 4, i + 1)\n",
    "    num = random.randint(0,10000)\n",
    "    if train_label_fecg[num,0] == 1:\n",
    "        plt.title('True')\n",
    "        plt.plot(sliced_mixture[0,:,num], 'r-')\n",
    "    else:\n",
    "        plt.title('False')\n",
    "        plt.plot(sliced_mixture[0,:,num], 'b-')"
   ]
  },
  {
   "cell_type": "markdown",
   "metadata": {},
   "source": [
    "## Prepare for the training input\n"
   ]
  },
  {
   "cell_type": "code",
   "execution_count": 4,
   "metadata": {},
   "outputs": [
    {
     "name": "stdout",
     "output_type": "stream",
     "text": [
      "10000 train DATA loaded\n",
      "30 dimensional input\n",
      "2 class output\n",
      "Data loaded\n"
     ]
    }
   ],
   "source": [
    "train_input = sliced_mixture[0,:,0:10000].transpose()\n",
    "train_label = train_label_fecg[0:10000,:]\n",
    "\n",
    "test_input = sliced_mixture[0,:,10000:14971].transpose()\n",
    "\n",
    "ntrain = train_input.shape[0]\n",
    "nclass = train_label.shape[1]\n",
    "dim    = train_input.shape[1]\n",
    "\n",
    "#print(train_input.shape)\n",
    "#print(train_label.shape)\n",
    "\n",
    "print (\"%d train DATA loaded\" % (ntrain))\n",
    "print (\"%d dimensional input\" % (dim))\n",
    "print (\"%d class output\" % (nclass))\n",
    "print('Data loaded')"
   ]
  },
  {
   "cell_type": "markdown",
   "metadata": {},
   "source": [
    "## Define MultiLayer Perception Network\n",
    "\n",
    "Two hidden layer\n",
    "\n",
    "hidden layer 1 : 100\n",
    "\n",
    "hidden layer 2 : 50"
   ]
  },
  {
   "cell_type": "code",
   "execution_count": 5,
   "metadata": {},
   "outputs": [
    {
     "name": "stdout",
     "output_type": "stream",
     "text": [
      "Network Ready to Go!\n"
     ]
    }
   ],
   "source": [
    "tf.set_random_seed(0)\n",
    "# Parameters\n",
    "learning_rate   = 0.001\n",
    "training_epochs = 4000\n",
    "batch_size      = ntrain\n",
    "display_step    = 400\n",
    "\n",
    "# Network Parameters\n",
    "n_hidden_1 = 100 # 1st layer num features\n",
    "n_hidden_2 = 100 # 2nd layer num features\n",
    "n_input    = dim # data input \n",
    "n_classes  = nclass # total classes (0-9 digits)\n",
    "\n",
    "# tf Graph input\n",
    "x = tf.placeholder(\"float\", [None, n_input])\n",
    "y = tf.placeholder(\"float\", [None, n_classes])\n",
    "\n",
    "# Create model\n",
    "def multilayer_perceptron(_X, _weights, _biases):\n",
    "    layer_1 = tf.nn.relu(tf.add(tf.matmul(_X, _weights['h1']), _biases['b1'])) \n",
    "    layer_2 = tf.nn.relu(tf.add(tf.matmul(layer_1, _weights['h2']), _biases['b2']))\n",
    "    return tf.matmul(layer_2, _weights['out']) + _biases['out']\n",
    "    \n",
    "# Store layers weight & bias\n",
    "stddev = 0.1 # <== This greatly affects accuracy!! \n",
    "weights = {\n",
    "    'h1': tf.Variable(tf.random_normal([n_input, n_hidden_1], stddev=stddev)),\n",
    "    'h2': tf.Variable(tf.random_normal([n_hidden_1, n_hidden_2], stddev=stddev)),\n",
    "    'out': tf.Variable(tf.random_normal([n_hidden_2, n_classes], stddev=stddev))\n",
    "}\n",
    "biases = {\n",
    "    'b1': tf.Variable(tf.random_normal([n_hidden_1])),\n",
    "    'b2': tf.Variable(tf.random_normal([n_hidden_2])),\n",
    "    'out': tf.Variable(tf.random_normal([n_classes]))\n",
    "}\n",
    "print (\"Network Ready to Go!\")"
   ]
  },
  {
   "cell_type": "code",
   "execution_count": 6,
   "metadata": {},
   "outputs": [
    {
     "name": "stdout",
     "output_type": "stream",
     "text": [
      "WARNING:tensorflow:From <ipython-input-6-4c0ad0c23f3f>:6: softmax_cross_entropy_with_logits (from tensorflow.python.ops.nn_ops) is deprecated and will be removed in a future version.\n",
      "Instructions for updating:\n",
      "\n",
      "Future major versions of TensorFlow will allow gradients to flow\n",
      "into the labels input on backprop by default.\n",
      "\n",
      "See tf.nn.softmax_cross_entropy_with_logits_v2.\n",
      "\n",
      "Functions ready\n"
     ]
    }
   ],
   "source": [
    "# Construct model\n",
    "pred = multilayer_perceptron(x, weights, biases)\n",
    "pred_softmax = y = tf.nn.softmax(pred)\n",
    "\n",
    "# Define loss and optimizer\n",
    "cost = tf.reduce_mean(tf.nn.softmax_cross_entropy_with_logits_v2(logits = pred, labels = y)) \n",
    "optm = tf.train.AdamOptimizer(learning_rate=learning_rate).minimize(cost)\n",
    "corr = tf.equal(tf.argmax(pred, axis = 1), tf.argmax(y, axis = 1))    \n",
    "accr = tf.reduce_mean(tf.cast(corr, \"float\"))\n",
    "\n",
    "# Initializing the variables\n",
    "init = tf.global_variables_initializer()\n",
    "print (\"Functions ready\")"
   ]
  },
  {
   "cell_type": "code",
   "execution_count": 7,
   "metadata": {},
   "outputs": [
    {
     "name": "stdout",
     "output_type": "stream",
     "text": [
      "Summary ready\n"
     ]
    }
   ],
   "source": [
    "# Launch the graph\n",
    "sess = tf.Session()\n",
    "sess.run(init)\n",
    "\n",
    "# Summary writer\n",
    "tf.summary.scalar('cross_entropy', cost)\n",
    "tf.summary.scalar('accuracy', accr)\n",
    "merged = tf.summary.merge_all()\n",
    "\n",
    "LOG_DIR = os.path.join(cwd, 'logs_v1_1')\n",
    "NAME_TO_VISUALISE_VARIABLE = \"ultrasonic_embedding\"\n",
    "#PATH_TO_SPRITE_IMAGE = os.path.join(cwd, 'image/image.jpg')\n",
    "\n",
    "summary_writer = tf.summary.FileWriter(LOG_DIR, graph=sess.graph)\n",
    "\n",
    "# define embedding variable\n",
    "buf = sliced_mixture[0,:,:].transpose();\n",
    "buf = buf[0:10000,:]\n",
    "embedding_var = tf.Variable(buf,name=NAME_TO_VISUALISE_VARIABLE)\n",
    "\n",
    "# Format: tensorflow/contrib/tensorboard/plugins/projector/projector_config.proto\n",
    "config = projector.ProjectorConfig()\n",
    "\n",
    "# add one embedding\n",
    "embedding = config.embeddings.add()\n",
    "embedding.tensor_name = embedding_var.name\n",
    "\n",
    "# Link this tensor to its metadata file (e.g. labels).\n",
    "embedding.metadata_path = os.path.join(LOG_DIR, 'metadata.tsv')\n",
    "\n",
    "# Saves a configuration file that TensorBoard will read during startup.\n",
    "projector.visualize_embeddings(summary_writer, config)\n",
    "\n",
    "sess.run(tf.variables_initializer([embedding_var]))\n",
    "\n",
    "saver = tf.train.Saver()\n",
    "saver.save(sess, os.path.join(LOG_DIR, 'model.ckpt'))\n",
    "print (\"Summary ready\")"
   ]
  },
  {
   "cell_type": "code",
   "execution_count": 8,
   "metadata": {},
   "outputs": [
    {
     "name": "stdout",
     "output_type": "stream",
     "text": [
      "<tf.Variable 'ultrasonic_embedding:0' shape=(10000, 30) dtype=float64_ref>\n"
     ]
    }
   ],
   "source": [
    "print(embedding_var)"
   ]
  },
  {
   "cell_type": "code",
   "execution_count": 9,
   "metadata": {},
   "outputs": [],
   "source": [
    "metadata_path = os.path.join(LOG_DIR, 'metadata.tsv')\n",
    "metadata = open(metadata_path, 'w')\n",
    "metadata.write(\"Name\\tType\\n\")\n",
    "for i in range(0,10000):\n",
    "    if(train_label[i,0]==0):\n",
    "        metadata.write(\"0\\tNOTHING\\n\")\n",
    "    else:\n",
    "        metadata.write(\"1\\tFECG\\n\")\n",
    "metadata.close()"
   ]
  },
  {
   "cell_type": "code",
   "execution_count": 10,
   "metadata": {},
   "outputs": [
    {
     "name": "stdout",
     "output_type": "stream",
     "text": [
      "Epoch: 000/4000 cost: 1.430742979\n",
      " Training accuracy: 0.245\n",
      "Epoch: 400/4000 cost: 0.344029695\n",
      " Training accuracy: 0.867\n",
      "Epoch: 800/4000 cost: 0.213332370\n",
      " Training accuracy: 0.915\n",
      "Epoch: 1200/4000 cost: 0.168641344\n",
      " Training accuracy: 0.938\n",
      "Epoch: 1600/4000 cost: 0.152479425\n",
      " Training accuracy: 0.942\n",
      "Epoch: 2000/4000 cost: 0.143359885\n",
      " Training accuracy: 0.946\n",
      "Epoch: 2400/4000 cost: 0.135500103\n",
      " Training accuracy: 0.947\n",
      "Epoch: 2800/4000 cost: 0.124684326\n",
      " Training accuracy: 0.953\n",
      "Epoch: 3200/4000 cost: 0.121627979\n",
      " Training accuracy: 0.955\n",
      "Epoch: 3600/4000 cost: 0.102426589\n",
      " Training accuracy: 0.962\n",
      "Optimization Finished!\n",
      "Time elapsed: 48.26012587547302 seconds\n"
     ]
    }
   ],
   "source": [
    "# Training cycle\n",
    "start = time.time()\n",
    "#print(start)\n",
    "for epoch in range(training_epochs):\n",
    "    avg_cost = 0.\n",
    "    total_batch = int(ntrain/batch_size)\n",
    "    # Loop over all batches\n",
    "    for i in range(total_batch):\n",
    "        randidx = np.random.randint(ntrain, size = batch_size)\n",
    "        batch_xs = train_input[randidx, :]\n",
    "        batch_ys = train_label[randidx, :] \n",
    "        # Fit training using batch data\n",
    "        summary,_ = sess.run([merged, optm], feed_dict={x: batch_xs, y: batch_ys})\n",
    "        # Compute average loss\n",
    "        avg_cost += sess.run(cost, feed_dict={x: batch_xs, y: batch_ys})/total_batch\n",
    "        # Display logs per epoch step\n",
    "        summary_writer.add_summary(summary, epoch*total_batch+i)\n",
    "    if epoch % display_step == 0:\n",
    "        print (\"Epoch: %03d/%03d cost: %.9f\" % (epoch, training_epochs, avg_cost))\n",
    "        train_acc = sess.run(accr, feed_dict={x: batch_xs, y: batch_ys})\n",
    "        print (\" Training accuracy: %.3f\" % (train_acc))\n",
    "        #test_acc = sess.run(accr, feed_dict={x: test_input, y: test_label})\n",
    "        #print (\" Test accuracy: %.3f\" % (test_acc))\n",
    "\n",
    "print (\"Optimization Finished!\")\n",
    "end = time.time()\n",
    "#print(end)\n",
    "text = 'Time elapsed: ' + str(end-start) + ' seconds'\n",
    "print(text)"
   ]
  },
  {
   "cell_type": "code",
   "execution_count": 11,
   "metadata": {},
   "outputs": [
    {
     "data": {
      "text/plain": [
       "[<matplotlib.lines.Line2D at 0x1afd8770b00>]"
      ]
     },
     "execution_count": 11,
     "metadata": {},
     "output_type": "execute_result"
    },
    {
     "data": {
      "image/png": "[encoded data removed]",
      "text/plain": [
       "<matplotlib.figure.Figure at 0x1afd8669240>"
      ]
     },
     "metadata": {},
     "output_type": "display_data"
    }
   ],
   "source": [
    "result = sess.run(pred_softmax, feed_dict={x: test_input})\n",
    "plt.plot(result[0:600,0],'r-')"
   ]
  },
  {
   "cell_type": "code",
   "execution_count": 13,
   "metadata": {},
   "outputs": [
    {
     "data": {
      "text/plain": [
       "[<matplotlib.lines.Line2D at 0x1afd862ba90>]"
      ]
     },
     "execution_count": 13,
     "metadata": {},
     "output_type": "execute_result"
    },
    {
     "data": {
      "image/png": "[encoded data removed]",
      "text/plain": [
       "<matplotlib.figure.Figure at 0x1afd864a160>"
      ]
     },
     "metadata": {},
     "output_type": "display_data"
    }
   ],
   "source": [
    "def process_output(raw_result):\n",
    "    if(raw_result.shape[0] == 1999):\n",
    "        processed_result = np.zeros(2048)\n",
    "        #processed_result = raw_result\n",
    "        for i in range(0,1999):\n",
    "            processed_result[i:i+50] = processed_result[i:i+50] + 1*raw_result[i]\n",
    "    else:\n",
    "        print('input data not valid')\n",
    "        return None\n",
    "    return processed_result\n",
    "\n",
    "test_random_idx = 0\n",
    "raw_result = result[((test_random_idx) * 1999): ((test_random_idx+1) * 1999),0]\n",
    "processed_data = process_output(raw_result)\n",
    "plt.plot(processed_data[0:600])"
   ]
  },
  {
   "cell_type": "code",
   "execution_count": null,
   "metadata": {},
   "outputs": [],
   "source": []
  },
  {
   "cell_type": "code",
   "execution_count": null,
   "metadata": {},
   "outputs": [],
   "source": []
  }
 ],
 "metadata": {
  "kernelspec": {
   "display_name": "Python 3",
   "language": "python",
   "name": "python3"
  },
  "language_info": {
   "codemirror_mode": {
    "name": "ipython",
    "version": 3
   },
   "file_extension": ".py",
   "mimetype": "text/x-python",
   "name": "python",
   "nbconvert_exporter": "python",
   "pygments_lexer": "ipython3",
   "version": "3.6.4"
  }
 },
 "nbformat": 4,
 "nbformat_minor": 2
}
