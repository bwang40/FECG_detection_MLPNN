{
 "cells": [
  {
   "cell_type": "markdown",
   "metadata": {},
   "source": [
    "# EIT2018 FECG & MECG detection based on Neural Network `V1.1`\n",
    "\n",
    "Name: `Boyang Wang`                  \n",
    "\n",
    "Date: `JAN 27 2018`\n",
    "\n",
    "\n",
    "### To do list: \n",
    " - getting data from matlab data, build the neural network, train for result."
   ]
  },
  {
   "cell_type": "code",
   "execution_count": 1,
   "metadata": {},
   "outputs": [
    {
     "name": "stdout",
     "output_type": "stream",
     "text": [
      "PACKAGES LOADED\n"
     ]
    }
   ],
   "source": [
    "import tensorflow as tf\n",
    "from scipy.io import loadmat\n",
    "import matplotlib.pyplot as plt\n",
    "import numpy as np\n",
    "import os\n",
    "import random\n",
    "import time\n",
    "from shutil import copyfile\n",
    "from tensorflow.contrib.tensorboard.plugins import projector\n",
    "print (\"PACKAGES LOADED\")"
   ]
  },
  {
   "cell_type": "markdown",
   "metadata": {},
   "source": [
    "## Load data from `fecg_train_Input.mat`\n",
    "\n",
    "The original data set has `fecg` , `mecg` , `mixture` , `train_input` , `train_label_fecg` , `train_label_mecg` , `train_label_nothing`\n",
    "\n",
    " - fecg (8, 15000)\n",
    " - mecg (8, 15000)\n",
    " - mixture (8, 15000)\n",
    " - sliced_mixture (8, 30, 14971)\n",
    " - train_label_fecg (14971, 2)\n",
    " - train_label_mecg (14971, 2)\n",
    " - train_label_nothing (14971, 2)"
   ]
  },
  {
   "cell_type": "code",
   "execution_count": 4,
   "metadata": {},
   "outputs": [],
   "source": [
    "cwd = os.getcwd()\n",
    "org_data = loadmat(cwd+'/dataset/fecg_train_input.mat')\n",
    "fecg = org_data['fecg']\n",
    "mecg = org_data['mecg']\n",
    "mixture = org_data['mixture']\n",
    "sliced_mixture = org_data['sliced_mixture']\n",
    "train_label_fecg = org_data['train_label_fecg']\n",
    "train_label_mecg = org_data['train_label_mecg']\n",
    "train_label_nothing = org_data['train_label_nothing']\n",
    "#print(train_label_fecg.shape)"
   ]
  },
  {
   "cell_type": "code",
   "execution_count": 34,
   "metadata": {},
   "outputs": [
    {
     "data": {
      "image/png": "[encoded data removed]",
      "text/plain": [
       "<matplotlib.figure.Figure at 0x185e7594b70>"
      ]
     },
     "metadata": {},
     "output_type": "display_data"
    }
   ],
   "source": [
    "for i in range(8):\n",
    "    plt.subplot(2, 4, i + 1)\n",
    "    num = random.randint(0,10000)\n",
    "    if train_label_fecg[num,0] == 1:\n",
    "        plt.title('True')\n",
    "        plt.plot(sliced_mixture[1,:,num], 'r-')\n",
    "    else:\n",
    "        plt.title('False')\n",
    "        plt.plot(sliced_mixture[1,:,num], 'b-')"
   ]
  },
  {
   "cell_type": "markdown",
   "metadata": {},
   "source": [
    "## Define MultiLayer Perception Network\n",
    "\n",
    "Two hidden layer\n",
    "\n",
    "hidden layer 1 : 100\n",
    "\n",
    "hidden layer 2 : 50"
   ]
  },
  {
   "cell_type": "code",
   "execution_count": null,
   "metadata": {},
   "outputs": [],
   "source": [
    "tf.set_random_seed(0)\n",
    "# Parameters\n",
    "learning_rate   = 0.001\n",
    "training_epochs = 4000\n",
    "batch_size      = ntrain\n",
    "display_step    = 400\n",
    "\n",
    "# Network Parameters\n",
    "n_hidden_1 = 100 # 1st layer num features\n",
    "n_hidden_2 = 100 # 2nd layer num features\n",
    "n_input    = dim # data input \n",
    "n_classes  = nclass # total classes (0-9 digits)\n",
    "\n",
    "# tf Graph input\n",
    "x = tf.placeholder(\"float\", [None, n_input])\n",
    "y = tf.placeholder(\"float\", [None, n_classes])\n",
    "\n",
    "# Create model\n",
    "def multilayer_perceptron(_X, _weights, _biases):\n",
    "    layer_1 = tf.nn.relu(tf.add(tf.matmul(_X, _weights['h1']), _biases['b1'])) \n",
    "    layer_2 = tf.nn.relu(tf.add(tf.matmul(layer_1, _weights['h2']), _biases['b2']))\n",
    "    return tf.matmul(layer_2, _weights['out']) + _biases['out']\n",
    "    \n",
    "# Store layers weight & bias\n",
    "stddev = 0.1 # <== This greatly affects accuracy!! \n",
    "weights = {\n",
    "    'h1': tf.Variable(tf.random_normal([n_input, n_hidden_1], stddev=stddev)),\n",
    "    'h2': tf.Variable(tf.random_normal([n_hidden_1, n_hidden_2], stddev=stddev)),\n",
    "    'out': tf.Variable(tf.random_normal([n_hidden_2, n_classes], stddev=stddev))\n",
    "}\n",
    "biases = {\n",
    "    'b1': tf.Variable(tf.random_normal([n_hidden_1])),\n",
    "    'b2': tf.Variable(tf.random_normal([n_hidden_2])),\n",
    "    'out': tf.Variable(tf.random_normal([n_classes]))\n",
    "}\n",
    "print (\"Network Ready to Go!\")"
   ]
  }
 ],
 "metadata": {
  "kernelspec": {
   "display_name": "Python 3",
   "language": "python",
   "name": "python3"
  },
  "language_info": {
   "codemirror_mode": {
    "name": "ipython",
    "version": 3
   },
   "file_extension": ".py",
   "mimetype": "text/x-python",
   "name": "python",
   "nbconvert_exporter": "python",
   "pygments_lexer": "ipython3",
   "version": "3.6.4"
  }
 },
 "nbformat": 4,
 "nbformat_minor": 2
}
